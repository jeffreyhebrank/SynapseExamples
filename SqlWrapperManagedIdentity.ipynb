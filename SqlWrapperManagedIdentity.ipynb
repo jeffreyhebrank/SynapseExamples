{
  "cells": [
    {
      "cell_type": "code",
      "source": [
        "import pyodbc\r\n",
        "import struct as structModule\r\n",
        "import pandas\r\n",
        "\r\n",
        "class ODBCSqlServer():\r\n",
        "  \"\"\"This class encapsulates a connection to a SQL Server instance\"\"\"\r\n",
        "  \r\n",
        "  def __init__(self, odbcUrl):\r\n",
        "    \"\"\"Class Constructor, receives the URL. Example: DRIVER={ODBC Driver 18 for SQL Server};SERVER=myazuresql.database.windows.net;DATABASE=MyConfigDatabase;\"\"\"\r\n",
        "    \r\n",
        "    # Save the JDBC URL as an instance variable\r\n",
        "    self.odbcUrl = odbcUrl\r\n",
        "    \r\n",
        "  def get_connection_with_managed_identity(self):\r\n",
        "    token = mssparkutils.credentials.getToken(audience=\"DW\")\r\n",
        "    connection_string = self.odbcUrl\r\n",
        "    SQL_COPT_SS_ACCESS_TOKEN = 1256\r\n",
        "    exptoken = b'';\r\n",
        "    for i in bytes(token, \"UTF-8\"):\r\n",
        "        exptoken += bytes({i});\r\n",
        "        exptoken += bytes(1);\r\n",
        "    tokenstruct = structModule.pack(\"=i\", len(exptoken)) + exptoken;\r\n",
        "    conn = pyodbc.connect(connection_string, attrs_before = { SQL_COPT_SS_ACCESS_TOKEN:tokenstruct })\r\n",
        "    return conn\r\n",
        "\r\n",
        "  def get_table_row_count(self, schema_name, table_name):\r\n",
        "    \"\"\"Get the number of records for the given table name\"\"\"\r\n",
        "    \r\n",
        "    sqlStatement = f\"\"\"\r\n",
        "      SELECT \r\n",
        "        COUNT(*)\r\n",
        "      FROM \r\n",
        "        {schema_name}.{table_name}\r\n",
        "    \"\"\"\r\n",
        "    \r\n",
        "    with contextlib.closing(self.get_connection()) as conn:\r\n",
        "      with conn:\r\n",
        "        df = pandas.read_sql(sqlStatement, conn)\r\n",
        "    \r\n",
        "    return df.iloc[0][0]"
      ],
      "outputs": [],
      "execution_count": null,
      "metadata": {}
    }
  ],
  "metadata": {
    "language_info": {
      "name": "python"
    },
    "kernelspec": {
      "name": "synapse_pyspark",
      "display_name": "python"
    },
    "save_output": true,
    "synapse_widget": {
      "version": "0.1",
      "state": {}
    }
  },
  "nbformat": 4,
  "nbformat_minor": 2
}